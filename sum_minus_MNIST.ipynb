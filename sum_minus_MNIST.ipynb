{
  "nbformat": 4,
  "nbformat_minor": 0,
  "metadata": {
    "accelerator": "GPU",
    "colab": {
      "name": "sum_minus_MNIST.ipynb",
      "provenance": []
    },
    "kernelspec": {
      "display_name": "Python 3",
      "name": "python3"
    },
    "language_info": {
      "name": "python"
    }
  },
  "cells": [
    {
      "cell_type": "code",
      "metadata": {
        "id": "kggXy4cyWBtT"
      },
      "source": [
        "import torch\n",
        "import torchvision as tv\n",
        "from PIL import Image\n",
        "import numpy as np\n",
        "import random\n",
        "import tqdm\n",
        "import torch.nn as nn\n",
        "import torch.nn.functional as F"
      ],
      "execution_count": 1,
      "outputs": []
    },
    {
      "cell_type": "code",
      "metadata": {
        "id": "-PTfz7DgeuGh"
      },
      "source": [
        "num_steps = 10000\n",
        "batch_size = 128\n",
        "device = 'cuda'"
      ],
      "execution_count": 2,
      "outputs": []
    },
    {
      "cell_type": "markdown",
      "metadata": {
        "id": "xgJa4j7AQURJ"
      },
      "source": [
        "# Some usefull functions"
      ]
    },
    {
      "cell_type": "code",
      "metadata": {
        "id": "r_tjqgYmc0AN"
      },
      "source": [
        "def pimg(img):\n",
        "  return Image.fromarray((img.detach().cpu().squeeze().numpy()*255).astype('uint8'))"
      ],
      "execution_count": 3,
      "outputs": []
    },
    {
      "cell_type": "code",
      "metadata": {
        "id": "kh9kUeGuafrG"
      },
      "source": [
        "class Calculator(nn.Module):\n",
        "  def __init__(self):\n",
        "    super(Calculator, self).__init__()\n",
        "    self.encoder = nn.Sequential(\n",
        "        nn.Linear(784*3, 512),\n",
        "        nn.ReLU(),\n",
        "        nn.Linear(512, 256),\n",
        "        nn.ReLU(),\n",
        "        nn.Linear(256,20)\n",
        "    )\n",
        "    self.decoder = nn.Sequential(\n",
        "        nn.Linear(10, 256),\n",
        "        nn.ReLU(),\n",
        "        nn.Linear(256, 512),\n",
        "        nn.ReLU(),\n",
        "        nn.Linear(512, 784),\n",
        "        nn.Sigmoid())\n",
        "    \n",
        "  def reparameterise(self, mu, logvar):\n",
        "    if self.training:\n",
        "        std = logvar.mul(0.5).exp_()\n",
        "        eps = std.data.new(std.size()).normal_()\n",
        "        return eps.mul(std).add_(mu)\n",
        "    else:\n",
        "        return mu\n",
        "\n",
        "  def forward(self, x):\n",
        "    batch_size, _ = x.shape\n",
        "    mu_logvar = self.encoder(x).view(-1, 2, 10)\n",
        "    mu = mu_logvar[:, 0, :]\n",
        "    logvar = mu_logvar[:, 1, :]\n",
        "    z = self.reparameterise(mu, logvar)\n",
        "    return self.decoder(z).reshape([batch_size, 28, 28]), mu, logvar"
      ],
      "execution_count": 4,
      "outputs": []
    },
    {
      "cell_type": "markdown",
      "metadata": {
        "id": "_SFpZEnMQROG"
      },
      "source": [
        "# Creating the signs"
      ]
    },
    {
      "cell_type": "code",
      "metadata": {
        "colab": {
          "base_uri": "https://localhost:8080/",
          "height": 100
        },
        "id": "JfbjxmKwVs-m",
        "outputId": "908ec48b-d669-44b1-af0a-9d9ef6dba0c5"
      },
      "source": [
        "minus = torch.zeros([1, 28, 28])\n",
        "xcoord, ycoord = torch.meshgrid(torch.range(0, 27), torch.range(0, 27))\n",
        "pidcs = (xcoord >= 12) & (xcoord < 16) \n",
        "minus[pidcs[None]] = 1\n",
        "minus = minus[0]\n",
        "pimg(minus)"
      ],
      "execution_count": 5,
      "outputs": [
        {
          "output_type": "stream",
          "name": "stderr",
          "text": [
            "/usr/local/lib/python3.7/dist-packages/ipykernel_launcher.py:2: UserWarning: torch.range is deprecated and will be removed in a future release because its behavior is inconsistent with Python's range builtin. Instead, use torch.arange, which produces values in [start, end).\n",
            "  \n"
          ]
        },
        {
          "output_type": "execute_result",
          "data": {
            "image/png": "[encoded data removed]",
            "text/plain": [
              "<PIL.Image.Image image mode=L size=28x28 at 0x7F052574CC10>"
            ]
          },
          "metadata": {},
          "execution_count": 5
        }
      ]
    },
    {
      "cell_type": "code",
      "metadata": {
        "colab": {
          "base_uri": "https://localhost:8080/",
          "height": 100
        },
        "id": "ngsKJTk4dwcS",
        "outputId": "9646e877-d1ad-409c-a5cf-750528f99b09"
      },
      "source": [
        "plus = torch.zeros([1, 28, 28])\n",
        "xcoord, ycoord = torch.meshgrid(torch.range(0, 27), torch.range(0, 27))\n",
        "pidcs = (xcoord >= 6) & (xcoord < 22) & (ycoord >= 12) & (ycoord < 17)\n",
        "plus[pidcs[None]] = 1\n",
        "plus[pidcs.T[None]] = 1\n",
        "plus = plus[0]\n",
        "pimg(plus)"
      ],
      "execution_count": 6,
      "outputs": [
        {
          "output_type": "stream",
          "name": "stderr",
          "text": [
            "/usr/local/lib/python3.7/dist-packages/ipykernel_launcher.py:2: UserWarning: torch.range is deprecated and will be removed in a future release because its behavior is inconsistent with Python's range builtin. Instead, use torch.arange, which produces values in [start, end).\n",
            "  \n"
          ]
        },
        {
          "output_type": "execute_result",
          "data": {
            "image/png": "[encoded data removed]",
            "text/plain": [
              "<PIL.Image.Image image mode=L size=28x28 at 0x7F04C6CE2F50>"
            ]
          },
          "metadata": {},
          "execution_count": 6
        }
      ]
    },
    {
      "cell_type": "markdown",
      "metadata": {
        "id": "d5_rC7_PQap1"
      },
      "source": [
        "# Creating the dataset"
      ]
    },
    {
      "cell_type": "code",
      "metadata": {
        "id": "2szYPZccaUaE"
      },
      "source": [
        "transormations = tv.transforms.Compose([tv.transforms.ToTensor()])\n",
        "dataset = tv.datasets.MNIST(root='./data', download = True, transform = transormations)\n",
        "y = [[d for d in dataset if d[1] == c] for c in range(10)]"
      ],
      "execution_count": null,
      "outputs": []
    },
    {
      "cell_type": "code",
      "metadata": {
        "colab": {
          "base_uri": "https://localhost:8080/",
          "height": 45
        },
        "id": "O5Cz-Ky1hadf",
        "outputId": "9f449448-a5d0-4ec0-cf11-845b775719fa"
      },
      "source": [
        "pimg(dataset[1][0][0])"
      ],
      "execution_count": 8,
      "outputs": [
        {
          "output_type": "execute_result",
          "data": {
            "image/png": "[encoded data removed]",
            "text/plain": [
              "<PIL.Image.Image image mode=L size=28x28 at 0x7F052574CE50>"
            ]
          },
          "metadata": {},
          "execution_count": 8
        }
      ]
    },
    {
      "cell_type": "code",
      "metadata": {
        "id": "ubimq1XLiH6L"
      },
      "source": [
        "ds = [d for d in dataset]"
      ],
      "execution_count": 9,
      "outputs": []
    },
    {
      "cell_type": "markdown",
      "metadata": {
        "id": "fxIQhduGQeMd"
      },
      "source": [
        "# Training the model"
      ]
    },
    {
      "cell_type": "code",
      "metadata": {
        "id": "veQIzJ4xd2E6"
      },
      "source": [
        "netG = Calculator().to(device)\n",
        "optimizerG = torch.optim.Adam(netG.parameters(), lr=3e-4)\n",
        "mse_loss = nn.MSELoss()"
      ],
      "execution_count": 10,
      "outputs": []
    },
    {
      "cell_type": "code",
      "metadata": {
        "colab": {
          "base_uri": "https://localhost:8080/"
        },
        "id": "1srtDIwzeboQ",
        "outputId": "664011ff-01d0-4089-e36b-87ec0acc3f87"
      },
      "source": [
        "for step in tqdm.trange(num_steps):\n",
        "  batch = []\n",
        "  labels = []\n",
        "  optimizerG.zero_grad()\n",
        "  segno=minus\n",
        "  if step%2 ==0:\n",
        "    segno = plus\n",
        "  while len(batch) < batch_size:\n",
        "    two1, two2 = np.random.choice(len(ds), size=2)\n",
        "    first, second = ds[two1], ds[two2]\n",
        "    tpt = torch.cat((first[0][0], segno, second[0][0]), 1).reshape(784*3).to(device)\n",
        "    #tpt = first[0][0].reshape(784).to(device)\n",
        "    l1 = first[1]\n",
        "    l2 = second[1]\n",
        "    label = l1 - l2\n",
        "    if step%2 ==0:\n",
        "      label = l1 + l2\n",
        "      if label > 9:\n",
        "        continue\n",
        "    if label <0 :\n",
        "        continue\n",
        "    label_ds = y[label]\n",
        "    label = random.choice(label_ds)[0][0].to(device)#first[0][0].to(device)\n",
        "    batch.append(tpt)\n",
        "    labels.append(label)\n",
        "  batch = torch.stack(batch)\n",
        "  labels = torch.stack(labels)\n",
        "  output, mu, logvar = netG(batch)\n",
        "\n",
        "  loss = mse_loss(labels, output)\n",
        "  KLD = 0.5 * torch.sum(logvar.exp() - logvar - 1 + mu.pow(2))\n",
        "  #loss_total = loss + 2*KLD\n",
        "  loss.backward()\n",
        "  #loss_total.backward()\n",
        "  optimizerG.step()\n",
        "  if step % 999 == 0:\n",
        "    print(loss, KLD)"
      ],
      "execution_count": 11,
      "outputs": [
        {
          "output_type": "stream",
          "name": "stderr",
          "text": [
            "  0%|          | 5/10000 [00:00<07:25, 22.43it/s]"
          ]
        },
        {
          "output_type": "stream",
          "name": "stdout",
          "text": [
            "tensor(0.2335, device='cuda:0', grad_fn=<MseLossBackward>) tensor(2.9932, device='cuda:0', grad_fn=<MulBackward0>)\n"
          ]
        },
        {
          "output_type": "stream",
          "name": "stderr",
          "text": [
            " 10%|█         | 1007/10000 [00:25<03:53, 38.54it/s]"
          ]
        },
        {
          "output_type": "stream",
          "name": "stdout",
          "text": [
            "tensor(0.0662, device='cuda:0', grad_fn=<MseLossBackward>) tensor(5300.3340, device='cuda:0', grad_fn=<MulBackward0>)\n"
          ]
        },
        {
          "output_type": "stream",
          "name": "stderr",
          "text": [
            " 20%|██        | 2003/10000 [00:50<03:23, 39.38it/s]"
          ]
        },
        {
          "output_type": "stream",
          "name": "stdout",
          "text": [
            "tensor(0.0640, device='cuda:0', grad_fn=<MseLossBackward>) tensor(5043.2598, device='cuda:0', grad_fn=<MulBackward0>)\n"
          ]
        },
        {
          "output_type": "stream",
          "name": "stderr",
          "text": [
            " 30%|███       | 3002/10000 [01:14<02:55, 39.92it/s]"
          ]
        },
        {
          "output_type": "stream",
          "name": "stdout",
          "text": [
            "tensor(0.0617, device='cuda:0', grad_fn=<MseLossBackward>) tensor(4487.0835, device='cuda:0', grad_fn=<MulBackward0>)\n"
          ]
        },
        {
          "output_type": "stream",
          "name": "stderr",
          "text": [
            " 40%|████      | 4003/10000 [01:39<02:25, 41.31it/s]"
          ]
        },
        {
          "output_type": "stream",
          "name": "stdout",
          "text": [
            "tensor(0.0563, device='cuda:0', grad_fn=<MseLossBackward>) tensor(5221.7422, device='cuda:0', grad_fn=<MulBackward0>)\n"
          ]
        },
        {
          "output_type": "stream",
          "name": "stderr",
          "text": [
            " 50%|█████     | 5001/10000 [02:04<02:04, 40.27it/s]"
          ]
        },
        {
          "output_type": "stream",
          "name": "stdout",
          "text": [
            "tensor(0.0594, device='cuda:0', grad_fn=<MseLossBackward>) tensor(5154.4805, device='cuda:0', grad_fn=<MulBackward0>)\n"
          ]
        },
        {
          "output_type": "stream",
          "name": "stderr",
          "text": [
            " 60%|██████    | 6002/10000 [02:29<01:39, 40.23it/s]"
          ]
        },
        {
          "output_type": "stream",
          "name": "stdout",
          "text": [
            "tensor(0.0578, device='cuda:0', grad_fn=<MseLossBackward>) tensor(5547.4038, device='cuda:0', grad_fn=<MulBackward0>)\n"
          ]
        },
        {
          "output_type": "stream",
          "name": "stderr",
          "text": [
            " 70%|███████   | 7000/10000 [02:54<01:12, 41.14it/s]"
          ]
        },
        {
          "output_type": "stream",
          "name": "stdout",
          "text": [
            "tensor(0.0575, device='cuda:0', grad_fn=<MseLossBackward>) tensor(5747.3403, device='cuda:0', grad_fn=<MulBackward0>)\n"
          ]
        },
        {
          "output_type": "stream",
          "name": "stderr",
          "text": [
            " 80%|███████▉  | 7999/10000 [03:19<00:50, 39.63it/s]"
          ]
        },
        {
          "output_type": "stream",
          "name": "stdout",
          "text": [
            "tensor(0.0522, device='cuda:0', grad_fn=<MseLossBackward>) tensor(6030.8223, device='cuda:0', grad_fn=<MulBackward0>)\n"
          ]
        },
        {
          "output_type": "stream",
          "name": "stderr",
          "text": [
            " 90%|████████▉ | 8996/10000 [03:44<00:25, 40.03it/s]"
          ]
        },
        {
          "output_type": "stream",
          "name": "stdout",
          "text": [
            "tensor(0.0552, device='cuda:0', grad_fn=<MseLossBackward>) tensor(6068.4019, device='cuda:0', grad_fn=<MulBackward0>)\n"
          ]
        },
        {
          "output_type": "stream",
          "name": "stderr",
          "text": [
            "100%|█████████▉| 9997/10000 [04:09<00:00, 38.67it/s]"
          ]
        },
        {
          "output_type": "stream",
          "name": "stdout",
          "text": [
            "tensor(0.0551, device='cuda:0', grad_fn=<MseLossBackward>) tensor(6348.6758, device='cuda:0', grad_fn=<MulBackward0>)\n"
          ]
        },
        {
          "output_type": "stream",
          "name": "stderr",
          "text": [
            "\r100%|██████████| 10000/10000 [04:09<00:00, 40.13it/s]\n"
          ]
        }
      ]
    },
    {
      "cell_type": "markdown",
      "metadata": {
        "id": "-_-CcGb5kUFl"
      },
      "source": [
        "# Test"
      ]
    },
    {
      "cell_type": "code",
      "metadata": {
        "id": "x93_d37zfoEv"
      },
      "source": [
        "test_dataset = tv.datasets.MNIST(root='./data', train=False, download=True,\n",
        "                           transform=tv.transforms.Compose([\n",
        "                               tv.transforms.ToTensor(),\n",
        "                           ]))"
      ],
      "execution_count": 12,
      "outputs": []
    },
    {
      "cell_type": "code",
      "metadata": {
        "id": "TTzu78OqkVxk"
      },
      "source": [
        "test_ds = [d[0][0] for d in test_dataset]\n",
        "test_two1, test_two2 = test_ds[100], test_ds[2]"
      ],
      "execution_count": 53,
      "outputs": []
    },
    {
      "cell_type": "code",
      "metadata": {
        "colab": {
          "base_uri": "https://localhost:8080/",
          "height": 45
        },
        "id": "CWUcuu1JkdZq",
        "outputId": "813edd07-0173-4285-ed73-864c34b52409"
      },
      "source": [
        "test_tpt = torch.cat((test_two1, minus, test_two2), 1).to(device)\n",
        "pimg(test_tpt)"
      ],
      "execution_count": 55,
      "outputs": [
        {
          "output_type": "execute_result",
          "data": {
            "image/png": "[encoded data removed]",
            "text/plain": [
              "<PIL.Image.Image image mode=L size=84x28 at 0x7F04BC35DF50>"
            ]
          },
          "metadata": {},
          "execution_count": 55
        }
      ]
    },
    {
      "cell_type": "code",
      "metadata": {
        "id": "vAtoAxgQk1mf",
        "colab": {
          "base_uri": "https://localhost:8080/",
          "height": 45
        },
        "outputId": "7189d13a-c7db-44a4-9f50-804dfebc3c66"
      },
      "source": [
        "test_tpt = test_tpt.unsqueeze(0).reshape([1, 784*3])\n",
        "FINAL_OUTPUT = netG(test_tpt.to(device))[0]\n",
        "pimg(FINAL_OUTPUT)"
      ],
      "execution_count": 59,
      "outputs": [
        {
          "output_type": "execute_result",
          "data": {
            "image/png": "[encoded data removed]",
            "text/plain": [
              "<PIL.Image.Image image mode=L size=28x28 at 0x7F04BC3F8DD0>"
            ]
          },
          "metadata": {},
          "execution_count": 59
        }
      ]
    }
  ]
}